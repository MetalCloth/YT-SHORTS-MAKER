{
 "cells": [
  {
   "cell_type": "code",
   "execution_count": 12,
   "id": "bc5475ba",
   "metadata": {},
   "outputs": [
    {
     "name": "stdout",
     "output_type": "stream",
     "text": [
      "pygame 2.6.1 (SDL 2.28.4, Python 3.13.5)\n",
      "Hello from the pygame community. https://www.pygame.org/contribute.html\n"
     ]
    },
    {
     "name": "stderr",
     "output_type": "stream",
     "text": [
      "c:\\Users\\rawat\\anaconda3\\envs\\shorts\\Lib\\site-packages\\pygame\\pkgdata.py:25: UserWarning: pkg_resources is deprecated as an API. See https://setuptools.pypa.io/en/latest/pkg_resources.html. The pkg_resources package is slated for removal as early as 2025-11-30. Refrain from using this package or pin to Setuptools<81.\n",
      "  from pkg_resources import resource_stream, resource_exists\n"
     ]
    }
   ],
   "source": [
    "import elevenlabs\n",
    "import os\n",
    "import base64\n",
    "import pygame\n",
    "import time"
   ]
  },
  {
   "cell_type": "code",
   "execution_count": 3,
   "id": "28d9eaf7",
   "metadata": {},
   "outputs": [],
   "source": [
    "generated_text=input(\"Enter a text\")"
   ]
  },
  {
   "cell_type": "code",
   "execution_count": 5,
   "id": "114402fc",
   "metadata": {},
   "outputs": [],
   "source": [
    "from elevenlabs import ElevenLabs\n",
    "\n",
    "client=ElevenLabs(api_key=os.getenv('ELEVENLABS_API_KEY'))\n",
    "\n",
    "\n",
    "response=client.text_to_speech.convert_with_timestamps(\n",
    "    voice_id=\"NFG5qt843uXKj4pFvR7C\",\n",
    "    text=generated_text\n",
    ")"
   ]
  },
  {
   "cell_type": "code",
   "execution_count": 7,
   "id": "4d324126",
   "metadata": {},
   "outputs": [],
   "source": [
    "audio=base64.b64decode(response.audio_base_64)\n",
    "\n",
    "with open('test.mp3','wb') as file:\n",
    "    file.write(audio)"
   ]
  },
  {
   "cell_type": "code",
   "execution_count": 8,
   "id": "fa95b584",
   "metadata": {},
   "outputs": [],
   "source": [
    "alignment = response.alignment\n",
    "chars = alignment.characters\n",
    "starts = alignment.character_start_times_seconds\n",
    "ends = alignment.character_end_times_seconds"
   ]
  },
  {
   "cell_type": "code",
   "execution_count": 9,
   "id": "11d66905",
   "metadata": {},
   "outputs": [],
   "source": [
    "def func(response):\n",
    "    alignment = response.alignment\n",
    "    chars = alignment.characters\n",
    "    starts = alignment.character_start_times_seconds\n",
    "    ends = alignment.character_end_times_seconds\n",
    "    words = []\n",
    "    current_word = \"\"\n",
    "    current_start = None\n",
    "\n",
    "    for c, s, e in zip(chars, starts, ends):\n",
    "        if c != \" \":\n",
    "            if current_word == \"\" or (current_word==\".\" or current_word==\",\"):  # starting a new word\n",
    "                current_start = s\n",
    "            current_word += c\n",
    "            current_end = e\n",
    "        else:\n",
    "            if current_word:  # end of a word\n",
    "                words.append((current_word, current_start, current_end))\n",
    "                current_word = \"\"\n",
    "\n",
    "    # Add the last word if there is one\n",
    "    if current_word:\n",
    "        words.append((current_word, current_start, current_end))\n",
    "\n",
    "    # Print result\n",
    "    for word, s, e in words:\n",
    "        print(f\"'{word}' spoken from {s:.2f}s to {e:.2f}s\")\n",
    "\n",
    "\n",
    "    return words\n"
   ]
  },
  {
   "cell_type": "code",
   "execution_count": 10,
   "id": "07903468",
   "metadata": {},
   "outputs": [
    {
     "name": "stdout",
     "output_type": "stream",
     "text": [
      "'I' spoken from 0.00s to 0.10s\n",
      "'am' spoken from 0.17s to 0.29s\n",
      "'Walter' spoken from 0.35s to 0.66s\n",
      "'hardwill' spoken from 0.72s to 1.10s\n",
      "'white' spoken from 1.16s to 1.53s\n",
      "'i' spoken from 1.59s to 1.70s\n",
      "'live' spoken from 1.80s to 2.00s\n",
      "'in' spoken from 2.03s to 2.10s\n",
      "'panama' spoken from 2.16s to 2.72s\n",
      "'new' spoken from 2.82s to 3.00s\n",
      "'mexico' spoken from 3.05s to 3.85s\n"
     ]
    }
   ],
   "source": [
    "timestamp=func(response)"
   ]
  },
  {
   "cell_type": "code",
   "execution_count": 13,
   "id": "1b4eed29",
   "metadata": {},
   "outputs": [],
   "source": [
    "pygame.mixer.init()\n",
    "pygame.mixer.music.load(\"test.mp3\")"
   ]
  },
  {
   "cell_type": "code",
   "execution_count": 24,
   "id": "f61e590b",
   "metadata": {},
   "outputs": [],
   "source": [
    "import ffmpeg\n",
    "\n",
    "def add_timed_text(stream, text, start, end, fontsize_ratio=0.12, fontcolor=\"white\", outline=6):\n",
    "    \"\"\"\n",
    "    Adds large, bold, centered YouTube Shorts-style text.\n",
    "    \"\"\"\n",
    "    return stream.drawtext(\n",
    "        text=text,\n",
    "        fontfile=r\"C:\\Windows\\Fonts\\impact.ttf\",   # Bold meme/viral look\n",
    "        fontsize=f\"h*{fontsize_ratio}\",            # Scale with video height\n",
    "        fontcolor=fontcolor,\n",
    "        x=\"(w-text_w)/2\",                          # Center horizontally\n",
    "        y=\"(h-text_h)/2\",                          # Center vertically\n",
    "        borderw=outline,                           # Thick outline\n",
    "        bordercolor=\"black\",\n",
    "        box=0,                                     # No box, outline only\n",
    "        enable=f\"between(t,{start},{end})\"\n",
    "    )\n"
   ]
  },
  {
   "cell_type": "code",
   "execution_count": 25,
   "id": "4295e964",
   "metadata": {},
   "outputs": [],
   "source": [
    "def overlay(stream,timestamp):\n",
    "   '''\n",
    "   Function: Apply timestamp\n",
    "\n",
    "   Args:\n",
    "      stream: Canvas to apply work\n",
    "      timestamp: Words with start and end time\n",
    "   '''\n",
    "   for word,start,end in timestamp:\n",
    "       stream=add_timed_text(stream,word,start,end)\n",
    "    \n",
    "   return stream\n",
    "    \n"
   ]
  },
  {
   "cell_type": "code",
   "execution_count": 26,
   "id": "eb3b403f",
   "metadata": {},
   "outputs": [
    {
     "data": {
      "text/plain": [
       "(None, None)"
      ]
     },
     "execution_count": 26,
     "metadata": {},
     "output_type": "execute_result"
    }
   ],
   "source": [
    "import ffmpeg\n",
    "\n",
    "input_file = r\"C:\\Users\\rawat\\ytshorts\\4511381-uhd_2560_1440_30fps.mp4\"\n",
    "audio_file = r\"C:\\Users\\rawat\\ytshorts\\test.mp3\"\n",
    "output_file = \"asscream.mp4\"  #mp4 to apply subtitles to\n",
    "\n",
    "# Load video\n",
    "video = ffmpeg.input(input_file).video\n",
    "audio = ffmpeg.input(audio_file).audio\n",
    "\n",
    "video=overlay(video,timestamp)\n",
    "\n",
    "(\n",
    "    ffmpeg\n",
    "    .output(video, audio, output_file, vcodec='libx264', acodec='aac', strict='experimental')\n",
    "    .overwrite_output()\n",
    "    .run()\n",
    ")\n"
   ]
  },
  {
   "cell_type": "code",
   "execution_count": null,
   "id": "75e06ae4",
   "metadata": {},
   "outputs": [],
   "source": []
  }
 ],
 "metadata": {
  "kernelspec": {
   "display_name": "shorts",
   "language": "python",
   "name": "python3"
  },
  "language_info": {
   "codemirror_mode": {
    "name": "ipython",
    "version": 3
   },
   "file_extension": ".py",
   "mimetype": "text/x-python",
   "name": "python",
   "nbconvert_exporter": "python",
   "pygments_lexer": "ipython3",
   "version": "3.13.5"
  }
 },
 "nbformat": 4,
 "nbformat_minor": 5
}
