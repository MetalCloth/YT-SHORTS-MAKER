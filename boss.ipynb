{
 "cells": [
  {
   "cell_type": "code",
   "execution_count": 1,
   "id": "53e759a0",
   "metadata": {},
   "outputs": [
    {
     "name": "stdout",
     "output_type": "stream",
     "text": [
      "pygame 2.6.1 (SDL 2.28.4, Python 3.13.5)\n",
      "Hello from the pygame community. https://www.pygame.org/contribute.html\n"
     ]
    },
    {
     "name": "stderr",
     "output_type": "stream",
     "text": [
      "c:\\Users\\rawat\\anaconda3\\envs\\shorts\\Lib\\site-packages\\pygame\\pkgdata.py:25: UserWarning: pkg_resources is deprecated as an API. See https://setuptools.pypa.io/en/latest/pkg_resources.html. The pkg_resources package is slated for removal as early as 2025-11-30. Refrain from using this package or pin to Setuptools<81.\n",
      "  from pkg_resources import resource_stream, resource_exists\n"
     ]
    }
   ],
   "source": [
    "import elevenlabs\n",
    "import requests\n",
    "import os\n",
    "import json\n",
    "import base64\n",
    "import pygame\n",
    "import time"
   ]
  },
  {
   "cell_type": "code",
   "execution_count": 2,
   "id": "f13ca9ae",
   "metadata": {},
   "outputs": [],
   "source": [
    "text=input('Enter your story')"
   ]
  },
  {
   "cell_type": "code",
   "execution_count": 3,
   "id": "54394d22",
   "metadata": {},
   "outputs": [],
   "source": [
    "from unrealspeech import UnrealSpeechAPI\n",
    "\n",
    "speech_api = UnrealSpeechAPI(api_key='G0d0Orw7FJEvnFxIWtWEb4PjhgtzBwtaOFQJ9PJeynQnAogkbMj3YR')\n",
    "\n",
    "\n",
    "response = speech_api.speech(\n",
    "    text=text,\n",
    "    voice_id=\"Will\",      # Choose voice: Scarlett, Dan, Liv, etc.\n",
    "    timestamp_type=\"word\",    # word or sentence\n",
    "    bitrate=\"192k\",\n",
    "    pitch=0.92\n",
    ")\n",
    "\n",
    "\n"
   ]
  },
  {
   "cell_type": "code",
   "execution_count": 13,
   "id": "564352b3",
   "metadata": {},
   "outputs": [
    {
     "data": {
      "text/plain": [
       "{'CreationTime': '2025-08-15T08:02:19.47Z',\n",
       " 'OutputUri': 'https://unreal-expire-in-90-days.s3-us-west-2.amazonaws.com/340dcc77-75c2-4b71-b785-326357b6e455-0.mp3',\n",
       " 'RequestCharacters': 1553,\n",
       " 'TaskId': '340dcc77-75c2-4b71-b785-326357b6e455',\n",
       " 'TaskStatus': 'completed',\n",
       " 'TimestampsUri': 'https://unreal-expire-in-90-days.s3-us-west-2.amazonaws.com/340dcc77-75c2-4b71-b785-326357b6e455-0.json',\n",
       " 'VoiceId': 'Will'}"
      ]
     },
     "execution_count": 13,
     "metadata": {},
     "output_type": "execute_result"
    }
   ],
   "source": [
    "response"
   ]
  },
  {
   "cell_type": "code",
   "execution_count": 4,
   "id": "af09a2e7",
   "metadata": {},
   "outputs": [],
   "source": [
    "sound=requests.get(response['OutputUri'])\n",
    "timestampurl=requests.get(response['TimestampsUri'])"
   ]
  },
  {
   "cell_type": "code",
   "execution_count": 5,
   "id": "5829c1ba",
   "metadata": {},
   "outputs": [],
   "source": [
    "with open('timestamps.json','wb') as file:\n",
    "    file.write(timestampurl.content)\n",
    "\n",
    "\n",
    "with open('test.mp3','wb') as file:\n",
    "    file.write(sound.content)"
   ]
  },
  {
   "cell_type": "code",
   "execution_count": 6,
   "id": "069a7e6d",
   "metadata": {},
   "outputs": [],
   "source": [
    "data_str = (timestampurl.content).decode(\"utf-8\")  # bytes → string\n",
    "data_json = json.loads(data_str) "
   ]
  },
  {
   "cell_type": "code",
   "execution_count": 7,
   "id": "b17aae27",
   "metadata": {},
   "outputs": [
    {
     "data": {
      "text/plain": [
       "[{'start': 0.5, 'end': 0.6586696915328503, 'word': 'i', 'text_offset': 0},\n",
       " {'start': 0.6586696915328503,\n",
       "  'end': 0.9063492094477018,\n",
       "  'word': 'love',\n",
       "  'text_offset': 2},\n",
       " {'start': 0.9063492094477018,\n",
       "  'end': 1.3397883698344233,\n",
       "  'word': 'juices',\n",
       "  'text_offset': 7}]"
      ]
     },
     "execution_count": 7,
     "metadata": {},
     "output_type": "execute_result"
    }
   ],
   "source": [
    "data_json"
   ]
  },
  {
   "cell_type": "code",
   "execution_count": 22,
   "id": "d32c571a",
   "metadata": {},
   "outputs": [],
   "source": [
    "data_json=[{'word': 'kya', 'start': 50.5, 'end': 213.0},\n",
    " {'word': 'aapko', 'start': 250.5, 'end': 700.5},\n",
    " {'word': 'pta', 'start': 700.5, 'end': 1075.5},\n",
    " {'word': 'hai', 'start': 1075.5, 'end': 1300.5},\n",
    " {'word': 'bhosademon', 'start': 1313.0, 'end': 2100.5},\n",
    " {'word': 'ka', 'start': 2125.5, 'end': 2288.0},\n",
    " {'word': 'poora', 'start': 2288.0, 'end': 2638.0},\n",
    " {'word': 'naam', 'start': 2638.0, 'end': 2925.5},\n",
    " {'word': 'mulla', 'start': 2925.5, 'end': 3288.0},\n",
    " {'word': 'sherdil', 'start': 3288.0, 'end': 3738.0},\n",
    " {'word': 'hai', 'start': 3750.5, 'end': 4113.0}]"
   ]
  },
  {
   "cell_type": "code",
   "execution_count": 10,
   "id": "fde6513a",
   "metadata": {},
   "outputs": [
    {
     "data": {
      "text/plain": [
       "{'word': 'kya', 'start': 50.5, 'end': 213.0}"
      ]
     },
     "execution_count": 10,
     "metadata": {},
     "output_type": "execute_result"
    }
   ],
   "source": [
    "data_json[0]"
   ]
  },
  {
   "cell_type": "code",
   "execution_count": 23,
   "id": "1e1ff967",
   "metadata": {},
   "outputs": [],
   "source": [
    "for i in data_json:\n",
    "\n",
    "    \n",
    "    i['start']=i['start']/1000\n",
    "    i['end']=i['end']/1000\n"
   ]
  },
  {
   "cell_type": "code",
   "execution_count": 24,
   "id": "e4f820be",
   "metadata": {},
   "outputs": [
    {
     "data": {
      "text/plain": [
       "[{'word': 'kya', 'start': 0.0505, 'end': 0.213},\n",
       " {'word': 'aapko', 'start': 0.2505, 'end': 0.7005},\n",
       " {'word': 'pta', 'start': 0.7005, 'end': 1.0755},\n",
       " {'word': 'hai', 'start': 1.0755, 'end': 1.3005},\n",
       " {'word': 'bhosademon', 'start': 1.313, 'end': 2.1005},\n",
       " {'word': 'ka', 'start': 2.1255, 'end': 2.288},\n",
       " {'word': 'poora', 'start': 2.288, 'end': 2.638},\n",
       " {'word': 'naam', 'start': 2.638, 'end': 2.9255},\n",
       " {'word': 'mulla', 'start': 2.9255, 'end': 3.288},\n",
       " {'word': 'sherdil', 'start': 3.288, 'end': 3.738},\n",
       " {'word': 'hai', 'start': 3.7505, 'end': 4.113}]"
      ]
     },
     "execution_count": 24,
     "metadata": {},
     "output_type": "execute_result"
    }
   ],
   "source": [
    "data_json"
   ]
  },
  {
   "cell_type": "code",
   "execution_count": 25,
   "id": "8f8e56f0",
   "metadata": {},
   "outputs": [],
   "source": [
    "import ffmpeg\n",
    "\n",
    "def group_words_into_phrases(words, max_words_per_phrase=3):\n",
    "    \"\"\"Groups individual words (dict format) into phrases based on punctuation or max word count.\"\"\"\n",
    "    phrases = []\n",
    "    current_phrase = []\n",
    "    if not words:\n",
    "        return []\n",
    "\n",
    "    phrase_start_time = words[0][\"start\"]\n",
    "\n",
    "    for i, w in enumerate(words):\n",
    "        word = w[\"word\"]\n",
    "        start = w[\"start\"]\n",
    "        end = w[\"end\"]\n",
    "\n",
    "        current_phrase.append(word)\n",
    "        should_end_phrase = (\n",
    "            any(c in word for c in \",.?!\")\n",
    "            or len(current_phrase) >= max_words_per_phrase\n",
    "            or i == len(words) - 1\n",
    "        )\n",
    "\n",
    "        if should_end_phrase:\n",
    "            phrase_text = \" \".join(current_phrase)\n",
    "            phrases.append({\n",
    "                \"phrase\": phrase_text,\n",
    "                \"start\": phrase_start_time,\n",
    "                \"end\": end\n",
    "            })\n",
    "            current_phrase = []\n",
    "            if i < len(words) - 1:\n",
    "                phrase_start_time = words[i + 1][\"start\"]\n",
    "\n",
    "    return phrases\n",
    "\n",
    "\n",
    "\n",
    "def add_timed_text(stream, text, start, end, max_font_ratio=0.08, min_font_ratio=0.05,\n",
    "                   fontcolor=\"white\", outline=6):\n",
    "    \"\"\"\n",
    "    Adds centered text that auto-shrinks for long words.\n",
    "    \"\"\"\n",
    "    font_ratio = max(min_font_ratio, max_font_ratio - (len(text) / 50) * 0.01)\n",
    "\n",
    "    return stream.drawtext(\n",
    "        text=text,\n",
    "        fontfile=r\"C:\\Windows\\Fonts\\impact.ttf\",\n",
    "        fontsize=f\"w*{font_ratio}\",\n",
    "        fontcolor=fontcolor,\n",
    "        x=\"(w-text_w)/2\",\n",
    "        y=\"(h-text_h)/2\",\n",
    "        borderw=outline,\n",
    "        bordercolor=\"black\",\n",
    "        box=0,\n",
    "        enable=f\"between(t,{start},{end})\"\n",
    "    )\n",
    "\n",
    "\n",
    "def overlay(stream, phrases):\n",
    "    \"\"\"\n",
    "    Apply timed phrases to the video stream.\n",
    "    phrases: list of dicts with keys 'phrase', 'start', 'end'\n",
    "    \"\"\"\n",
    "    for p in phrases:\n",
    "        stream = add_timed_text(stream, p[\"phrase\"], p[\"start\"], p[\"end\"])\n",
    "    return stream\n"
   ]
  },
  {
   "cell_type": "code",
   "execution_count": 26,
   "id": "d60ae1d0",
   "metadata": {},
   "outputs": [
    {
     "data": {
      "text/plain": [
       "[{'word': 'kya', 'start': 0.0505, 'end': 0.213},\n",
       " {'word': 'aapko', 'start': 0.2505, 'end': 0.7005},\n",
       " {'word': 'pta', 'start': 0.7005, 'end': 1.0755},\n",
       " {'word': 'hai', 'start': 1.0755, 'end': 1.3005},\n",
       " {'word': 'bhosademon', 'start': 1.313, 'end': 2.1005},\n",
       " {'word': 'ka', 'start': 2.1255, 'end': 2.288},\n",
       " {'word': 'poora', 'start': 2.288, 'end': 2.638},\n",
       " {'word': 'naam', 'start': 2.638, 'end': 2.9255},\n",
       " {'word': 'mulla', 'start': 2.9255, 'end': 3.288},\n",
       " {'word': 'sherdil', 'start': 3.288, 'end': 3.738},\n",
       " {'word': 'hai', 'start': 3.7505, 'end': 4.113}]"
      ]
     },
     "execution_count": 26,
     "metadata": {},
     "output_type": "execute_result"
    }
   ],
   "source": [
    "data_json"
   ]
  },
  {
   "cell_type": "code",
   "execution_count": 27,
   "id": "39689023",
   "metadata": {},
   "outputs": [],
   "source": [
    "phrases=group_words_into_phrases(data_json)"
   ]
  },
  {
   "cell_type": "code",
   "execution_count": 28,
   "id": "90a6e0bf",
   "metadata": {},
   "outputs": [
    {
     "data": {
      "text/plain": [
       "[{'phrase': 'kya aapko pta', 'start': 0.0505, 'end': 1.0755},\n",
       " {'phrase': 'hai bhosademon ka', 'start': 1.0755, 'end': 2.288},\n",
       " {'phrase': 'poora naam mulla', 'start': 2.288, 'end': 3.288},\n",
       " {'phrase': 'sherdil hai', 'start': 3.288, 'end': 4.113}]"
      ]
     },
     "execution_count": 28,
     "metadata": {},
     "output_type": "execute_result"
    }
   ],
   "source": [
    "phrases"
   ]
  },
  {
   "cell_type": "code",
   "execution_count": 29,
   "id": "af2e2c7c",
   "metadata": {},
   "outputs": [
    {
     "data": {
      "text/plain": [
       "4.113"
      ]
     },
     "execution_count": 29,
     "metadata": {},
     "output_type": "execute_result"
    }
   ],
   "source": [
    "data_json[len(data_json)-1]['end']"
   ]
  },
  {
   "cell_type": "code",
   "execution_count": 30,
   "id": "aa1e449f",
   "metadata": {},
   "outputs": [
    {
     "data": {
      "text/plain": [
       "(None, None)"
      ]
     },
     "execution_count": 30,
     "metadata": {},
     "output_type": "execute_result"
    }
   ],
   "source": [
    "input_file = \"17169505-hd_1080_1920_30fps.mp4\"\n",
    "audio_file = \"output.mp3\"\n",
    "output_file = \"asscream.mp4\"\n",
    "\n",
    "audio_duration=data_json[len(data_json)-1]['end']+0.5\n",
    "\n",
    "\n",
    "video = ffmpeg.input(input_file,stream_loop=-1,t=audio_duration).video\n",
    "audio = ffmpeg.input(audio_file).audio\n",
    "\n",
    "video = overlay(video, phrases)\n",
    "\n",
    "(\n",
    "    ffmpeg\n",
    "    .output(video, audio, output_file, vcodec='libx264', acodec='aac', strict='experimental')\n",
    "    .overwrite_output()\n",
    "    .run()\n",
    ")\n"
   ]
  },
  {
   "cell_type": "code",
   "execution_count": null,
   "id": "484e74fe",
   "metadata": {},
   "outputs": [],
   "source": []
  },
  {
   "cell_type": "code",
   "execution_count": null,
   "id": "b4336752",
   "metadata": {},
   "outputs": [],
   "source": []
  },
  {
   "cell_type": "code",
   "execution_count": null,
   "id": "1cf54a55",
   "metadata": {},
   "outputs": [],
   "source": []
  },
  {
   "cell_type": "code",
   "execution_count": null,
   "id": "c155e156",
   "metadata": {},
   "outputs": [],
   "source": []
  },
  {
   "cell_type": "code",
   "execution_count": null,
   "id": "108a358c",
   "metadata": {},
   "outputs": [],
   "source": []
  },
  {
   "cell_type": "code",
   "execution_count": null,
   "id": "3065cfb7",
   "metadata": {},
   "outputs": [],
   "source": []
  },
  {
   "cell_type": "code",
   "execution_count": null,
   "id": "bb0f727e",
   "metadata": {},
   "outputs": [],
   "source": []
  },
  {
   "cell_type": "code",
   "execution_count": null,
   "id": "887715ee",
   "metadata": {},
   "outputs": [],
   "source": []
  },
  {
   "cell_type": "code",
   "execution_count": null,
   "id": "981c7b6c",
   "metadata": {},
   "outputs": [],
   "source": []
  },
  {
   "cell_type": "code",
   "execution_count": null,
   "id": "46ff30e5",
   "metadata": {},
   "outputs": [],
   "source": []
  }
 ],
 "metadata": {
  "kernelspec": {
   "display_name": "shorts",
   "language": "python",
   "name": "python3"
  },
  "language_info": {
   "codemirror_mode": {
    "name": "ipython",
    "version": 3
   },
   "file_extension": ".py",
   "mimetype": "text/x-python",
   "name": "python",
   "nbconvert_exporter": "python",
   "pygments_lexer": "ipython3",
   "version": "3.13.5"
  }
 },
 "nbformat": 4,
 "nbformat_minor": 5
}
